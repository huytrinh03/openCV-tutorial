{
 "cells": [
  {
   "cell_type": "markdown",
   "id": "a89f9e3e-1478-4643-a90b-12057364c74e",
   "metadata": {},
   "source": [
    "## Installing necessary libraries"
   ]
  },
  {
   "cell_type": "code",
   "execution_count": 1,
   "id": "7cb4cd07-f042-4dad-bc22-46e7365e6a19",
   "metadata": {
    "collapsed": true,
    "jupyter": {
     "outputs_hidden": true
    }
   },
   "outputs": [
    {
     "name": "stdout",
     "output_type": "stream",
     "text": [
      "Collecting opencv-contrib-python\n",
      "  Downloading opencv_contrib_python-4.10.0.84-cp37-abi3-macosx_11_0_arm64.whl.metadata (20 kB)\n",
      "Requirement already satisfied: numpy>=1.21.2 in /Library/Frameworks/Python.framework/Versions/3.11/lib/python3.11/site-packages (from opencv-contrib-python) (1.24.3)\n",
      "Downloading opencv_contrib_python-4.10.0.84-cp37-abi3-macosx_11_0_arm64.whl (63.7 MB)\n",
      "\u001b[2K   \u001b[90m━━━━━━━━━━━━━━━━━━━━━━━━━━━━━━━━━━━━━━━━\u001b[0m \u001b[32m63.7/63.7 MB\u001b[0m \u001b[31m21.7 MB/s\u001b[0m eta \u001b[36m0:00:00\u001b[0m00:01\u001b[0m00:01\u001b[0m\n",
      "\u001b[?25hInstalling collected packages: opencv-contrib-python\n",
      "Successfully installed opencv-contrib-python-4.10.0.84\n",
      "Note: you may need to restart the kernel to use updated packages.\n"
     ]
    }
   ],
   "source": [
    "pip install opencv-contrib-python\n",
    "pip install imutils"
   ]
  },
  {
   "cell_type": "markdown",
   "id": "9943c6a5-620f-4c04-bbb2-fa6de5b211ee",
   "metadata": {},
   "source": [
    "## Installing necessary packages"
   ]
  },
  {
   "cell_type": "code",
   "execution_count": null,
   "id": "c708309e-f770-40a4-9bb6-c0130e8b4cdd",
   "metadata": {},
   "outputs": [],
   "source": [
    "import imutils\n",
    "import cv2"
   ]
  },
  {
   "cell_type": "markdown",
   "id": "f59814a1-4c74-4f51-8308-51702764429f",
   "metadata": {},
   "source": [
    "## Opening and displaying an image"
   ]
  },
  {
   "cell_type": "code",
   "execution_count": 20,
   "id": "7a32cd55-fd02-4e92-93b2-f62be0c219b6",
   "metadata": {},
   "outputs": [
    {
     "name": "stdout",
     "output_type": "stream",
     "text": [
      "width=2146, height=1392, depth=3\n"
     ]
    },
    {
     "data": {
      "text/plain": [
       "48"
      ]
     },
     "execution_count": 20,
     "metadata": {},
     "output_type": "execute_result"
    }
   ],
   "source": [
    "# load the input image and show its dimensions, keeping in mind that\n",
    "# images are represented as a multi-dimensional NumPy array with\n",
    "# shape no. rows (height) x no. columns (width) x no. channels (depth)\n",
    "image = cv2.imread(\"image1.png\")\n",
    "assert image is not None, \"file could not be read, check with os.path.exists()\"\n",
    "(h, w, d) = image.shape\n",
    "print(\"width={}, height={}, depth={}\".format(w, h, d))\n",
    "# display the image to our screen -- we will need to click the window\n",
    "# open by OpenCV and press a key on our keyboard to continue execution\n",
    "cv2.imshow(\"Image\", image)\n",
    "cv2.waitKey(0)"
   ]
  },
  {
   "cell_type": "markdown",
   "id": "d5fd8ce3-bada-45a1-ad53-850774911210",
   "metadata": {},
   "source": [
    "## Accessing a pixel"
   ]
  },
  {
   "cell_type": "code",
   "execution_count": 24,
   "id": "17b0a1d2-2d95-4be0-8b3a-1e1c6b00b24c",
   "metadata": {},
   "outputs": [
    {
     "name": "stdout",
     "output_type": "stream",
     "text": [
      "R=24, G=21, B=17\n"
     ]
    }
   ],
   "source": [
    "(B, G, R) = image[200,100]\n",
    "print(\"R={}, G={}, B={}\".format(R, G, B))"
   ]
  },
  {
   "cell_type": "markdown",
   "id": "b70013fb-03f5-409e-80b9-d52eaad40f84",
   "metadata": {},
   "source": [
    "## Extracting ROIs (Regions of Interest)"
   ]
  },
  {
   "cell_type": "code",
   "execution_count": 30,
   "id": "9d0a82c8-6e27-48ed-a2e1-62e3d4eb7bf6",
   "metadata": {},
   "outputs": [
    {
     "data": {
      "text/plain": [
       "48"
      ]
     },
     "execution_count": 30,
     "metadata": {},
     "output_type": "execute_result"
    }
   ],
   "source": [
    "roi = image[525:1125, 160:650]\n",
    "cv2.imshow(\"Harry\", roi)\n",
    "cv2.waitKey(0)"
   ]
  },
  {
   "cell_type": "markdown",
   "id": "4bbf9d0a-bb51-4e1d-a7f2-9981214c58b6",
   "metadata": {},
   "source": [
    "## Image resizing while preserving the aspect ratio"
   ]
  },
  {
   "cell_type": "code",
   "execution_count": 34,
   "id": "951734af-2fb4-4632-a359-8553c18a1512",
   "metadata": {},
   "outputs": [
    {
     "data": {
      "text/plain": [
       "48"
      ]
     },
     "execution_count": 34,
     "metadata": {},
     "output_type": "execute_result"
    }
   ],
   "source": [
    "# Original image is 2146x1392\n",
    "# Resize to 1073x696\n",
    "resized_image = imutils.resize(image, width=1073)\n",
    "cv2.imshow(\"resized\", resized_image)\n",
    "cv2.waitKey(0)"
   ]
  },
  {
   "cell_type": "markdown",
   "id": "b7fc48c5-be23-4cc6-8b53-ce100a4a95e4",
   "metadata": {},
   "source": [
    "## Rotating an image and making sure it is not clipped"
   ]
  },
  {
   "cell_type": "code",
   "execution_count": 37,
   "id": "2ef0a144-ed83-4111-a89f-26b582e57332",
   "metadata": {},
   "outputs": [
    {
     "data": {
      "text/plain": [
       "48"
      ]
     },
     "execution_count": 37,
     "metadata": {},
     "output_type": "execute_result"
    }
   ],
   "source": [
    "rotated_image = imutils.rotate_bound(image, 45)\n",
    "cv2.imshow(\"Imutils Bound Rotation\", rotated_image)\n",
    "cv2.waitKey(0)"
   ]
  },
  {
   "cell_type": "markdown",
   "id": "bf6c4245-4aa3-4653-a123-703e501dc917",
   "metadata": {},
   "source": [
    "## Blurring an image"
   ]
  },
  {
   "cell_type": "code",
   "execution_count": 42,
   "id": "b4bdae1e-3321-47f2-9f67-fa4a73e7dcc8",
   "metadata": {},
   "outputs": [
    {
     "data": {
      "text/plain": [
       "48"
      ]
     },
     "execution_count": 42,
     "metadata": {},
     "output_type": "execute_result"
    }
   ],
   "source": [
    "# apply a Gaussian blur with a 11x11 kernel to the image to smooth it,\n",
    "# useful when reducing high frequency noise\n",
    "blurred = cv2.GaussianBlur(image, (11, 11), 0)\n",
    "cv2.imshow(\"Blurred\", blurred)\n",
    "cv2.waitKey(0)"
   ]
  },
  {
   "cell_type": "markdown",
   "id": "32e0e194-369a-4217-bd7a-a8ddb4b32c17",
   "metadata": {},
   "source": [
    "## Drawing on an image"
   ]
  },
  {
   "cell_type": "code",
   "execution_count": null,
   "id": "d54edf18-17e0-4828-8e20-df24275d9977",
   "metadata": {},
   "outputs": [],
   "source": [
    "# draw a 2px thick red rectangle surrounding Harry's face\n",
    "output = image.copy()\n",
    "cv2.rectangle(output, (160, 525), (650, 1125), (0, 0, 255), 2)\n",
    "cv2.imshow(\"Rectangle\", output)\n",
    "cv2.waitKey(0)"
   ]
  },
  {
   "cell_type": "code",
   "execution_count": null,
   "id": "142a402d-5cf9-41d9-816c-b916eacef01d",
   "metadata": {},
   "outputs": [],
   "source": []
  },
  {
   "cell_type": "code",
   "execution_count": null,
   "id": "3587e9df-9739-47a2-870c-e6421228909d",
   "metadata": {},
   "outputs": [],
   "source": []
  }
 ],
 "metadata": {
  "kernelspec": {
   "display_name": "openCV-tutorial-venv",
   "language": "python",
   "name": "opencv-tutorial-venv"
  },
  "language_info": {
   "codemirror_mode": {
    "name": "ipython",
    "version": 3
   },
   "file_extension": ".py",
   "mimetype": "text/x-python",
   "name": "python",
   "nbconvert_exporter": "python",
   "pygments_lexer": "ipython3",
   "version": "3.11.3"
  }
 },
 "nbformat": 4,
 "nbformat_minor": 5
}
